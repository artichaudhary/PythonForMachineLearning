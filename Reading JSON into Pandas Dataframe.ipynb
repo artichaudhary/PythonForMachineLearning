{
 "cells": [
  {
   "cell_type": "markdown",
   "metadata": {},
   "source": [
    "Reading JSON into Pandas Dataframe"
   ]
  },
  {
   "cell_type": "code",
   "execution_count": 14,
   "metadata": {},
   "outputs": [
    {
     "name": "stdout",
     "output_type": "stream",
     "text": [
      "                                                      0  \\\n",
      "employeename                              Eric Williams   \n",
      "end_time                                           null   \n",
      "kinesis_timestamp              2019-11-06T09:27:35.160Z   \n",
      "opdes                                          TBC COAT   \n",
      "operation                                          0240   \n",
      "part_number                               121T2294G0002   \n",
      "personnelactualid  8556EF79-DF04-4F8B-9189-664CD39ABA31   \n",
      "r_use                                  OperatorClocking   \n",
      "shoporder                                      40908164   \n",
      "sso                                           204009344   \n",
      "start_time                      2019-11-05T12:09:29.070   \n",
      "\n",
      "                                                      1  \n",
      "employeename                              Eric Williams  \n",
      "end_time                        2019-11-05T12:09:40.443  \n",
      "kinesis_timestamp              2019-11-06T09:27:35.160Z  \n",
      "opdes                                          TBC COAT  \n",
      "operation                                          0240  \n",
      "part_number                               121T2294G0002  \n",
      "personnelactualid  8556EF79-DF04-4F8B-9189-664CD39ABA31  \n",
      "r_use                                  OperatorClocking  \n",
      "shoporder                                      40908164  \n",
      "sso                                           204009344  \n",
      "start_time                      2019-11-05T12:09:29.070  \n"
     ]
    }
   ],
   "source": [
    "#use lines=True for multiple lines; else you will get valueerror trailing data\n",
    "'''\n",
    "orient : string,\n",
    "Indication of expected JSON string format. Compatible JSON strings can be produced by to_json() with a corresponding orient value. The set of possible orients is:\n",
    "\n",
    "'split' : dict like {index -> [index], columns -> [columns], data -> [values]}\n",
    "'records' : list like [{column -> value}, ... , {column -> value}]\n",
    "'index' : dict like {index -> {column -> value}}\n",
    "'columns' : dict like {column -> {index -> value}}\n",
    "'values' : just the values array\n",
    "'''\n",
    "import pandas as pd\n",
    "df = pd.read_json(r'C:\\Users\\212472902\\Downloads\\personnelactual.json' , lines=True, orient='index') \n",
    "\n",
    "\n",
    "print(df)\n"
   ]
  },
  {
   "cell_type": "code",
   "execution_count": null,
   "metadata": {},
   "outputs": [],
   "source": []
  },
  {
   "cell_type": "code",
   "execution_count": null,
   "metadata": {},
   "outputs": [],
   "source": []
  }
 ],
 "metadata": {
  "kernelspec": {
   "display_name": "Python 3",
   "language": "python",
   "name": "python3"
  },
  "language_info": {
   "codemirror_mode": {
    "name": "ipython",
    "version": 3
   },
   "file_extension": ".py",
   "mimetype": "text/x-python",
   "name": "python",
   "nbconvert_exporter": "python",
   "pygments_lexer": "ipython3",
   "version": "3.6.4"
  }
 },
 "nbformat": 4,
 "nbformat_minor": 2
}
