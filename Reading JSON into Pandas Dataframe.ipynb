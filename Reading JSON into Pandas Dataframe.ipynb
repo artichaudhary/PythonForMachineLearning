{
 "cells": [
  {
   "cell_type": "markdown",
   "metadata": {},
   "source": [
    "Reading JSON into Pandas Dataframe"
   ]
  },
  {
   "cell_type": "code",
   "execution_count": 6,
   "metadata": {},
   "outputs": [
    {
     "name": "stdout",
     "output_type": "stream",
     "text": [
      "    employeename                 end_time         kinesis_timestamp     opdes  \\\n",
      "0  Eric Williams                     null  2019-11-06T09:27:35.160Z  TBC COAT   \n",
      "1  Eric Williams  2019-11-05T12:09:40.443  2019-11-06T09:27:35.160Z  TBC COAT   \n",
      "\n",
      "   operation    part_number                     personnelactualid  \\\n",
      "0        240  121T2294G0002  8556EF79-DF04-4F8B-9189-664CD39ABA31   \n",
      "1        240  121T2294G0002  8556EF79-DF04-4F8B-9189-664CD39ABA31   \n",
      "\n",
      "              r_use  shoporder        sso              start_time  \n",
      "0  OperatorClocking   40908164  204009344 2019-11-05 12:09:29.070  \n",
      "1  OperatorClocking   40908164  204009344 2019-11-05 12:09:29.070  \n"
     ]
    }
   ],
   "source": [
    "import pandas as pd\n",
    "df = pd.read_json(r'C:\\Users\\212472902\\Downloads\\personnelactual.json' , lines=True) \n",
    "#use lines=True for multiple lines; else you will get valueerror trailing data\n",
    "\n",
    "print(df)\n"
   ]
  },
  {
   "cell_type": "code",
   "execution_count": null,
   "metadata": {},
   "outputs": [],
   "source": []
  },
  {
   "cell_type": "code",
   "execution_count": null,
   "metadata": {},
   "outputs": [],
   "source": []
  }
 ],
 "metadata": {
  "kernelspec": {
   "display_name": "Python 3",
   "language": "python",
   "name": "python3"
  },
  "language_info": {
   "codemirror_mode": {
    "name": "ipython",
    "version": 3
   },
   "file_extension": ".py",
   "mimetype": "text/x-python",
   "name": "python",
   "nbconvert_exporter": "python",
   "pygments_lexer": "ipython3",
   "version": "3.6.4"
  }
 },
 "nbformat": 4,
 "nbformat_minor": 2
}
